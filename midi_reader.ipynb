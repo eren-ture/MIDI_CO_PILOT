{
 "cells": [
  {
   "cell_type": "code",
   "execution_count": null,
   "metadata": {},
   "outputs": [],
   "source": [
    "from symusic import Score\n",
    "import pandas as pd\n",
    "import numpy as np\n",
    "import json\n",
    "import os\n",
    "import sys\n",
    "import math\n",
    "import torch\n",
    "import random\n",
    "from matplotlib import pyplot as plt\n",
    "from utils import track_to_list\n",
    "\n",
    "from data.Dataset import MidiDataset\n",
    "from torch.utils.data import DataLoader"
   ]
  },
  {
   "cell_type": "code",
   "execution_count": null,
   "metadata": {},
   "outputs": [],
   "source": [
    "dataset = MidiDataset(json_dir='./data/data.json', max_seq_len=512)\n",
    "dataloader = DataLoader(dataset, batch_size=2, shuffle=True)"
   ]
  },
  {
   "cell_type": "code",
   "execution_count": null,
   "metadata": {},
   "outputs": [],
   "source": [
    "full_dataset = MidiDataset('./data.json', 512)\n",
    "train_dataset = MidiDataset('./data.json', 512, 'train', .7)\n",
    "test_dataset = MidiDataset('./data.json', 512, 'test', .7)"
   ]
  },
  {
   "cell_type": "code",
   "execution_count": null,
   "metadata": {},
   "outputs": [],
   "source": [
    "iter(dataloader)"
   ]
  },
  {
   "cell_type": "markdown",
   "metadata": {},
   "source": [
    "### Notes:\n",
    "Only work on single time_signature, key_signarture, or tempo tracks for now."
   ]
  },
  {
   "cell_type": "markdown",
   "metadata": {},
   "source": [
    "## Dataset"
   ]
  },
  {
   "cell_type": "code",
   "execution_count": null,
   "metadata": {},
   "outputs": [],
   "source": [
    "def get_song_details(dir):\n",
    "    \"\"\"\n",
    "    Input midi directory.\n",
    "    Output song details as a dict().\n",
    "    \"\"\"\n",
    "    try:\n",
    "        midi = Score(dir)\n",
    "    except:\n",
    "        print(f'ERROR with: {dir}')\n",
    "        return None\n",
    "\n",
    "    n_tracks = sum(1 if not t.is_drum else 0 for t in midi.tracks) # Count non-drum tracks.\n",
    "    if n_tracks <= 1:                   # Discard songs with only one track.\n",
    "        print(f'SINGLE TRACK: {dir}')\n",
    "        return None\n",
    "\n",
    "    time_signatures = midi.time_signatures\n",
    "    if len(time_signatures) > 1:        # Discard songs with multiple time signatures.\n",
    "        print(f'MULTI SIGNATURE: {dir}')\n",
    "        return None\n",
    "\n",
    "    tempos = midi.tempos\n",
    "    if len(tempos) > 1:                 # Discard songs with multiple tempos.\n",
    "        print(f'MULTI TEMPO: {dir}')\n",
    "        return None\n",
    "\n",
    "    keys = midi.key_signatures\n",
    "    if len(keys) > 1:                   # Discard songs with multiple keys.\n",
    "        print(f'MULTI KEY: {dir}')\n",
    "        return None\n",
    "\n",
    "    song = {\n",
    "        'Midi_Directory': dir,\n",
    "        'Artist': dir.split('/')[-2],\n",
    "        'Song': dir.split('/')[-1][:-4]\n",
    "    }\n",
    "    return song\n",
    "\n",
    "# def is_synchronous(midi):\n",
    "    "
   ]
  },
  {
   "cell_type": "code",
   "execution_count": null,
   "metadata": {},
   "outputs": [],
   "source": [
    "# data = []\n",
    "# data_folder = './archive'\n",
    "\n",
    "# for root, dirs, files in os.walk(data_folder):\n",
    "#     for file in files:\n",
    "#         if not file.endswith('.mid'):\n",
    "#             continue\n",
    "#         midi_directory = os.path.join(root, file)\n",
    "#         song_details = get_song_details(midi_directory)\n",
    "#         if song_details:\n",
    "#             data.append(song_details)\n",
    "\n",
    "# print(f\"Number of songs: {len(data)}\")\n",
    "# json_file_path = \"data.json\"\n",
    "# with open(json_file_path, \"w\") as json_file:\n",
    "#     json.dump(data, json_file, indent=4)"
   ]
  },
  {
   "cell_type": "code",
   "execution_count": null,
   "metadata": {},
   "outputs": [],
   "source": [
    "midi = Score('./archive/VOF_de_Kunst/Een_kopje_koffie.mid')"
   ]
  },
  {
   "cell_type": "code",
   "execution_count": null,
   "metadata": {},
   "outputs": [],
   "source": [
    "track = midi.tracks[14]\n",
    "print(f\"name: {track.name}\")\n",
    "\n",
    "\n",
    "frame_pianoroll = track.pianoroll(['frame'])\n",
    "print(\"frame_pianoroll\", frame_pianoroll.dtype, frame_pianoroll.shape)\n",
    "plt.imshow(frame_pianoroll[0], aspect='auto')"
   ]
  },
  {
   "cell_type": "code",
   "execution_count": null,
   "metadata": {},
   "outputs": [],
   "source": [
    "def get_clipped_tracks(midi, n_bars=16, zero_index=True, include_empty_start=False, visualize=False, debug=False):\n",
    "    '''\n",
    "    Returns smaller clips in the size \"n_bars\".\n",
    "    '''\n",
    "    time_sig = (midi.time_signatures[0].numerator, midi.time_signatures[0].denominator)\n",
    "    bar_length = int(midi.tpq * time_sig[0] * (4 / time_sig[1]))\n",
    "    first_note_time = min(t.notes[0].time for t in midi.tracks if t.notes)\n",
    "\n",
    "    note_32nd = midi.tpq // 8\n",
    "\n",
    "    if include_empty_start:\n",
    "        loop_start = midi.start()\n",
    "    else:\n",
    "        for s in range(midi.start(), midi.end(), bar_length):\n",
    "            if first_note_time <= s:\n",
    "                loop_start = s\n",
    "                break\n",
    "\n",
    "    clipped_tracks = dict()\n",
    "\n",
    "    for track in midi.tracks:\n",
    "\n",
    "        if track.is_drum:   # Skip if drum track.\n",
    "            continue\n",
    "\n",
    "        if debug or visualize:\n",
    "            print(f\"Processing track \\\"{track.name}\\\"\")\n",
    "\n",
    "        clipped_track = []\n",
    "\n",
    "        for i in range(loop_start, midi.end(), n_bars * bar_length):\n",
    "            start_tick = i - note_32nd\n",
    "            end_tick = min(start_tick + (n_bars * bar_length), midi.end())\n",
    "            \n",
    "            if end_tick - start_tick < bar_length:  # Skip if less than one bar.\n",
    "                continue\n",
    "            \n",
    "            clipped_part = track.clip(start_tick, end_tick, clip_end=True)\n",
    "            if zero_index:\n",
    "                notes_list = track_to_list(clipped_part, start_tick)\n",
    "            else:\n",
    "                notes_list = track_to_list(clipped_part)\n",
    "            clipped_track.append(notes_list)\n",
    "\n",
    "            if debug:\n",
    "                print(\"---\")\n",
    "                print(f\"Clip from: {i}\")\n",
    "                print(f\"Bars in clip: {(end_tick - start_tick) / bar_length}\")\n",
    "                print(f\"Number of notes in clip: {len(clipped_part.notes)}\")\n",
    "\n",
    "            if visualize:\n",
    "                frame_pianoroll = clipped_part.pianoroll(['frame'])\n",
    "                plt.imshow(frame_pianoroll[0,:,start_tick:], aspect='auto')\n",
    "                plt.title(f\"Clip from: {i}\")\n",
    "                plt.show()\n",
    "        \n",
    "        clipped_tracks[track.name] = clipped_track\n",
    "\n",
    "    return clipped_tracks"
   ]
  },
  {
   "cell_type": "code",
   "execution_count": null,
   "metadata": {},
   "outputs": [],
   "source": [
    "clipped_midi = get_clipped_tracks(midi, n_bars=4)"
   ]
  },
  {
   "cell_type": "code",
   "execution_count": null,
   "metadata": {},
   "outputs": [],
   "source": [
    "clipped_midi.keys()"
   ]
  },
  {
   "cell_type": "code",
   "execution_count": null,
   "metadata": {},
   "outputs": [],
   "source": [
    "clipped_midi"
   ]
  },
  {
   "cell_type": "code",
   "execution_count": null,
   "metadata": {},
   "outputs": [],
   "source": [
    "dic = {\n",
    "    'a': 1,\n",
    "    'b': 2\n",
    "}\n",
    "\n",
    "list(dic.items())"
   ]
  },
  {
   "cell_type": "code",
   "execution_count": null,
   "metadata": {},
   "outputs": [],
   "source": [
    "from datetime import datetime\n",
    "print(f\"log {datetime.now()}.txt\")"
   ]
  },
  {
   "cell_type": "code",
   "execution_count": null,
   "metadata": {},
   "outputs": [],
   "source": []
  },
  {
   "cell_type": "code",
   "execution_count": null,
   "metadata": {},
   "outputs": [],
   "source": [
    "# random.seed = 42\n",
    "with open('./data.json', 'r') as data_json:\n",
    "    data = json.load(data_json)\n",
    "random.Random(42).shuffle(data)"
   ]
  },
  {
   "cell_type": "code",
   "execution_count": null,
   "metadata": {},
   "outputs": [],
   "source": [
    "data"
   ]
  },
  {
   "cell_type": "code",
   "execution_count": null,
   "metadata": {},
   "outputs": [],
   "source": [
    "from datetime import datetime, date\n",
    "print(date.today())\n",
    "print(datetime.now().date())"
   ]
  },
  {
   "cell_type": "code",
   "execution_count": null,
   "metadata": {},
   "outputs": [],
   "source": [
    "datetime.now()"
   ]
  },
  {
   "cell_type": "code",
   "execution_count": null,
   "metadata": {},
   "outputs": [],
   "source": []
  }
 ],
 "metadata": {
  "kernelspec": {
   "display_name": "base",
   "language": "python",
   "name": "python3"
  },
  "language_info": {
   "codemirror_mode": {
    "name": "ipython",
    "version": 3
   },
   "file_extension": ".py",
   "mimetype": "text/x-python",
   "name": "python",
   "nbconvert_exporter": "python",
   "pygments_lexer": "ipython3",
   "version": "3.11.5"
  }
 },
 "nbformat": 4,
 "nbformat_minor": 2
}
